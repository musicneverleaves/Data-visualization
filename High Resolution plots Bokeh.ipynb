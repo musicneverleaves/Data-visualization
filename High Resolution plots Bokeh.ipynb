{
 "cells": [
  {
   "cell_type": "code",
   "execution_count": 1,
   "metadata": {},
   "outputs": [],
   "source": [
    "import pandas as pd\n",
    "from bokeh.models import ColumnDataSource, Label, LabelSet, Range1d\n",
    "from bokeh.plotting import figure, output_file, show\n",
    "from bokeh.layouts import row, column\n",
    "from math import pi\n",
    "output_file(\"High Resolution Dashboard.html\")\n",
    "df = pd.read_csv(\"adult.data\", header=None)"
   ]
  },
  {
   "cell_type": "code",
   "execution_count": 2,
   "metadata": {},
   "outputs": [],
   "source": [
    "def get_all_lbls(df,cid):\n",
    "    return df[cid].unique()\n",
    "\n",
    "def get_lbls_cnts_ages(df, cid):\n",
    "    age_grp=[]\n",
    "    bins=[]\n",
    "    for x in range(20,110,10):\n",
    "        if x==20:\n",
    "            lower = 0\n",
    "        else:\n",
    "            lower = x-10\n",
    "        upper = x\n",
    "        \n",
    "        df_x = df[(df[0]<upper)&(df[0]>= lower)]\n",
    "        x = df_x[cid].value_counts()\n",
    "        lbls=x.keys()\n",
    "        cnts=x.tolist()\n",
    "        d = dict(zip(lbls,cnts))\n",
    "        bins.append(d)\n",
    "        age_grp.append(str(lower)+\"-\"+str(upper))\n",
    "    return(age_grp, bins)"
   ]
  },
  {
   "cell_type": "code",
   "execution_count": 3,
   "metadata": {},
   "outputs": [],
   "source": [
    "def create_figure(all_lbls, d, a, t):\n",
    "    x=[]\n",
    "    y=[]\n",
    "    for l in all_lbls:\n",
    "        x.append(l)\n",
    "        if l in d:\n",
    "            y.append(d[l])\n",
    "        else:\n",
    "            y.append(0)\n",
    "    if a == \"0-20\":\n",
    "        f= figure(x_range=x,\n",
    "              plot_width=200, plot_height=200,\n",
    "              toolbar_location=None,\n",
    "              title=t)\n",
    "    else:\n",
    "        f= figure(x_range=x,\n",
    "              plot_width=200, plot_height=200,\n",
    "              toolbar_location=None,\n",
    "              title=\"\")\n",
    "    f.vbar(x=x, top=y, width=0.02*len(d))\n",
    "    f.xaxis.major_label_orientation=pi/2\n",
    "    f.xgrid.grid_line_color=None\n",
    "    f.yaxis.minor_tick_line_color=None\n",
    "    f.yaxis.axis_line_color = None\n",
    "    f.xaxis.axis_line_color = None\n",
    "    f.xaxis.visible=None\n",
    "    if t == \"Marital Status Distribution\":\n",
    "        f.yaxis[0].axis_label = a+' years old'\n",
    "    else:\n",
    "        None\n",
    "    \n",
    "    return f"
   ]
  },
  {
   "cell_type": "code",
   "execution_count": 4,
   "metadata": {},
   "outputs": [],
   "source": [
    "def create_figure_column(df,cid,t):\n",
    "    all_lbls = get_all_lbls(df,cid)\n",
    "    a,d = get_lbls_cnts_ages(df,cid)\n",
    "    \n",
    "    fs=[]\n",
    "    for i in range(len(a)):\n",
    "        f = create_figure( all_lbls, d[i], a[i], t)\n",
    "        fs.append(f)\n",
    "    p= create_xlbls_figure(all_lbls)\n",
    "    fs.append(p)\n",
    "    return(fs)"
   ]
  },
  {
   "cell_type": "code",
   "execution_count": 5,
   "metadata": {},
   "outputs": [],
   "source": [
    "def create_xlbls_figure(all_lbls):\n",
    "    x=[]\n",
    "    y=[]\n",
    "    for l in all_lbls:\n",
    "        x.append(l)\n",
    "        y.append(0)\n",
    "            \n",
    "    p= figure(x_range=x,\n",
    "              plot_width=200,plot_height=200,\n",
    "              toolbar_location=None,\n",
    "              title=\"\",\n",
    "              x_axis_location='above')\n",
    "    p.vbar(x=x, top=0, width=0)\n",
    "    p.xaxis.major_label_orientation=pi/2\n",
    "    p.xgrid.grid_line_color=None\n",
    "    p.ygrid.grid_line_color=None\n",
    "    p.yaxis.minor_tick_line_color=None\n",
    "    p.xaxis.axis_line_color = None\n",
    "    p.yaxis.visible=None\n",
    "    p.outline_line_color=None\n",
    "    return p"
   ]
  },
  {
   "cell_type": "code",
   "execution_count": 6,
   "metadata": {},
   "outputs": [],
   "source": [
    "f_m = create_figure_column(df,5, \"Marital Status Distribution\")\n",
    "f_i = create_figure_column(df,14, \"Income Distribution\")\n",
    "f_e = create_figure_column(df,3, \"Education Distribution\")\n",
    "f_w = create_figure_column(df,1, \"Working Class Distribution\")\n",
    "\n",
    "show(row(column(f_m),column(f_i),column(f_e),column(f_w)))"
   ]
  },
  {
   "cell_type": "code",
   "execution_count": null,
   "metadata": {},
   "outputs": [],
   "source": []
  },
  {
   "cell_type": "code",
   "execution_count": null,
   "metadata": {},
   "outputs": [],
   "source": []
  }
 ],
 "metadata": {
  "kernelspec": {
   "display_name": "Python 3",
   "language": "python",
   "name": "python3"
  },
  "language_info": {
   "codemirror_mode": {
    "name": "ipython",
    "version": 3
   },
   "file_extension": ".py",
   "mimetype": "text/x-python",
   "name": "python",
   "nbconvert_exporter": "python",
   "pygments_lexer": "ipython3",
   "version": "3.8.3"
  }
 },
 "nbformat": 4,
 "nbformat_minor": 4
}
